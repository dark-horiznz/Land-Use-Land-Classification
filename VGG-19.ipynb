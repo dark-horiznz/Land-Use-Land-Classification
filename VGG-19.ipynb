{
 "cells": [
  {
   "cell_type": "code",
   "execution_count": 1,
   "id": "6964c8d0-2946-4507-a8b5-66721e7de746",
   "metadata": {
    "tags": []
   },
   "outputs": [],
   "source": [
    "import tensorflow as tf\n",
    "from tensorflow.keras.applications import VGG19"
   ]
  },
  {
   "cell_type": "code",
   "execution_count": 2,
   "id": "a0011bc0-5a2b-4665-86e9-82fcfd6e24a9",
   "metadata": {
    "tags": []
   },
   "outputs": [
    {
     "name": "stderr",
     "output_type": "stream",
     "text": [
      "2024-05-25 19:26:18.854779: I metal_plugin/src/device/metal_device.cc:1154] Metal device set to: Apple M1\n",
      "2024-05-25 19:26:18.854804: I metal_plugin/src/device/metal_device.cc:296] systemMemory: 8.00 GB\n",
      "2024-05-25 19:26:18.854810: I metal_plugin/src/device/metal_device.cc:313] maxCacheSize: 2.67 GB\n",
      "2024-05-25 19:26:18.855351: I tensorflow/core/common_runtime/pluggable_device/pluggable_device_factory.cc:306] Could not identify NUMA node of platform GPU ID 0, defaulting to 0. Your kernel may not have been built with NUMA support.\n",
      "2024-05-25 19:26:18.855796: I tensorflow/core/common_runtime/pluggable_device/pluggable_device_factory.cc:272] Created TensorFlow device (/job:localhost/replica:0/task:0/device:GPU:0 with 0 MB memory) -> physical PluggableDevice (device: 0, name: METAL, pci bus id: <undefined>)\n"
     ]
    }
   ],
   "source": [
    "vgg_model = VGG19(weights='imagenet' , include_top = False , input_shape=(224,224,3))"
   ]
  },
  {
   "cell_type": "code",
   "execution_count": 3,
   "id": "14f70142-c5c9-43ef-940b-b11541968d5d",
   "metadata": {
    "tags": []
   },
   "outputs": [],
   "source": [
    "dataset_url = r'/Users/aditya/Desktop/General/Projects/2750'\n",
    "batch_size = 32\n",
    "img_height = 244\n",
    "img_width = 244\n",
    "validation_split=0.2\n",
    "rescale=1.0/255"
   ]
  },
  {
   "cell_type": "code",
   "execution_count": 4,
   "id": "55a62093-1107-48ce-b187-af7c620c1ed8",
   "metadata": {
    "tags": []
   },
   "outputs": [
    {
     "name": "stdout",
     "output_type": "stream",
     "text": [
      "Found 27000 files belonging to 10 classes.\n"
     ]
    }
   ],
   "source": [
    "datagen = tf.keras.preprocessing.image.ImageDataGenerator(validation_split=validation_split, rescale=rescale)\n",
    "dataset = tf.keras.preprocessing.image_dataset_from_directory(dataset_url, image_size=(img_height, img_width), batch_size=batch_size)"
   ]
  },
  {
   "cell_type": "code",
   "execution_count": 5,
   "id": "c13ad399-623d-4bc4-9384-e0efb564b491",
   "metadata": {
    "tags": []
   },
   "outputs": [
    {
     "name": "stdout",
     "output_type": "stream",
     "text": [
      "Found 21600 images belonging to 10 classes.\n"
     ]
    }
   ],
   "source": [
    "train_dataset = datagen.flow_from_directory(batch_size=batch_size,\n",
    "                                           directory=dataset_url,\n",
    "                                           shuffle=True,\n",
    "                                           target_size=(img_height, img_width),\n",
    "                                           subset=\"training\",\n",
    "                                           class_mode='categorical')"
   ]
  },
  {
   "cell_type": "code",
   "execution_count": 6,
   "id": "7f057b87-a758-40b0-83d2-c9c37e05a00f",
   "metadata": {
    "tags": []
   },
   "outputs": [
    {
     "name": "stdout",
     "output_type": "stream",
     "text": [
      "Found 5400 images belonging to 10 classes.\n"
     ]
    }
   ],
   "source": [
    "test_dataset = datagen.flow_from_directory(batch_size=batch_size,\n",
    "                                           directory=dataset_url,\n",
    "                                           shuffle=True,\n",
    "                                           target_size=(img_height, img_width),\n",
    "                                           subset=\"validation\",\n",
    "                                           class_mode='categorical')"
   ]
  },
  {
   "cell_type": "code",
   "execution_count": 7,
   "id": "4a6b96c2-8980-4b51-9efa-218ede891686",
   "metadata": {
    "tags": []
   },
   "outputs": [],
   "source": [
    "model = tf.keras.Sequential()\n",
    "model.add(vgg_model)\n",
    "model.add(tf.keras.layers.Flatten())\n",
    "model.add(tf.keras.layers.Dense(96, activation='relu'))\n",
    "model.add(tf.keras.layers.Dropout(.25))\n",
    "model.add(tf.keras.layers.BatchNormalization())\n",
    "model.add(tf.keras.layers.Dense(10, activation='softmax'))"
   ]
  },
  {
   "cell_type": "code",
   "execution_count": 8,
   "id": "656b5abb-650a-4d14-a1b0-cc3cf1ea84bb",
   "metadata": {
    "tags": []
   },
   "outputs": [],
   "source": [
    "for layer in vgg_model.layers:\n",
    "    if isinstance(layer, tf.keras.layers.BatchNormalization):\n",
    "        layer.trainable = True\n",
    "    else:\n",
    "        layer.trainable = False"
   ]
  },
  {
   "cell_type": "code",
   "execution_count": null,
   "id": "bb5ad192-1e68-4bf3-968b-ca1ceab19ada",
   "metadata": {
    "tags": []
   },
   "outputs": [
    {
     "name": "stdout",
     "output_type": "stream",
     "text": [
      "Epoch 1/10\n"
     ]
    },
    {
     "name": "stderr",
     "output_type": "stream",
     "text": [
      "2024-05-25 19:26:20.598880: I tensorflow/core/grappler/optimizers/custom_graph_optimizer_registry.cc:117] Plugin optimizer for device_type GPU is enabled.\n"
     ]
    },
    {
     "name": "stdout",
     "output_type": "stream",
     "text": [
      "675/675 [==============================] - 997s 1s/step - loss: 1.2238 - accuracy: 0.5824 - val_loss: 0.8467 - val_accuracy: 0.7117\n",
      "Epoch 2/10\n",
      "675/675 [==============================] - 998s 1s/step - loss: 0.8486 - accuracy: 0.7105 - val_loss: 0.7343 - val_accuracy: 0.7583\n",
      "Epoch 3/10\n",
      "675/675 [==============================] - 1063s 2s/step - loss: 0.7518 - accuracy: 0.7428 - val_loss: 0.6926 - val_accuracy: 0.7641\n",
      "Epoch 4/10\n",
      "675/675 [==============================] - 1289s 2s/step - loss: 0.7213 - accuracy: 0.7479 - val_loss: 0.6667 - val_accuracy: 0.7650\n",
      "Epoch 5/10\n",
      "675/675 [==============================] - 1284s 2s/step - loss: 0.6818 - accuracy: 0.7613 - val_loss: 0.5932 - val_accuracy: 0.7926\n",
      "Epoch 6/10\n",
      "675/675 [==============================] - 1209s 2s/step - loss: 0.6463 - accuracy: 0.7746 - val_loss: 0.6427 - val_accuracy: 0.7776\n",
      "Epoch 7/10\n",
      "675/675 [==============================] - 1080s 2s/step - loss: 0.6270 - accuracy: 0.7793 - val_loss: 0.5766 - val_accuracy: 0.7939\n",
      "Epoch 8/10\n",
      "675/675 [==============================] - 988s 1s/step - loss: 0.5926 - accuracy: 0.7938 - val_loss: 0.5848 - val_accuracy: 0.7948\n",
      "Epoch 9/10\n",
      "675/675 [==============================] - 1384s 2s/step - loss: 0.6046 - accuracy: 0.7856 - val_loss: 0.5601 - val_accuracy: 0.8006\n",
      "Epoch 10/10\n",
      "675/675 [==============================] - ETA: 0s - loss: 0.5817 - accuracy: 0.7982"
     ]
    }
   ],
   "source": [
    "callback = tf.keras.callbacks.EarlyStopping(monitor='loss',patience=2)\n",
    "with tf.device(\"/gpu:0\"):\n",
    "    model.compile(optimizer='adam', loss='categorical_crossentropy', metrics=['accuracy']  )\n",
    "    history = model.fit(train_dataset, validation_data=test_dataset, epochs=10, batch_size=32 , callbacks = [callback])"
   ]
  },
  {
   "cell_type": "code",
   "execution_count": null,
   "id": "8818e86c-8429-4219-bc12-333b0f403e60",
   "metadata": {
    "tags": []
   },
   "outputs": [],
   "source": [
    "model.save('lulc_10_epoch_vgg19.h5')"
   ]
  },
  {
   "cell_type": "code",
   "execution_count": null,
   "id": "5036b580-0d53-4e14-a9c1-04b7513961db",
   "metadata": {
    "tags": []
   },
   "outputs": [],
   "source": [
    "import matplotlib.pyplot as plt"
   ]
  },
  {
   "cell_type": "code",
   "execution_count": null,
   "id": "c11ff0d5-01e1-4fb3-849f-c2aa91464b68",
   "metadata": {
    "tags": []
   },
   "outputs": [],
   "source": [
    "fig, (ax1, ax2) = plt.subplots(1, 2, figsize=(10, 6))\n",
    "ax1.plot(history.history['accuracy'])\n",
    "ax1.plot(history.history['val_accuracy'])\n",
    "ax1.set_xlabel('epoch')\n",
    "ax1.set_ylabel('accuracy')\n",
    "ax1.set_title('Accuracy over epoch')\n",
    "ax1.legend(['Train', 'Test'], loc='upper left')\n",
    "ax1.grid(True)\n",
    "ax2.plot(history.history['loss'])\n",
    "ax2.plot(history.history['val_loss'])\n",
    "ax2.set_xlabel('epoch')\n",
    "ax2.set_ylabel('loss')\n",
    "ax2.set_title('Loss over epoch')\n",
    "ax2.legend(['Train', 'Test'], loc=\"upper right\")\n",
    "ax2.grid(True)"
   ]
  },
  {
   "cell_type": "code",
   "execution_count": null,
   "id": "ba8b7f18-3cb6-4d92-a8a5-61646f325d34",
   "metadata": {
    "tags": []
   },
   "outputs": [],
   "source": [
    "preds = model.predict(test_dataset)"
   ]
  },
  {
   "cell_type": "code",
   "execution_count": null,
   "id": "335cbea4-4d11-454a-9bb5-53b7d2158632",
   "metadata": {},
   "outputs": [],
   "source": []
  }
 ],
 "metadata": {
  "kernelspec": {
   "display_name": "Python [conda env:root] *",
   "language": "python",
   "name": "conda-root-py"
  },
  "language_info": {
   "codemirror_mode": {
    "name": "ipython",
    "version": 3
   },
   "file_extension": ".py",
   "mimetype": "text/x-python",
   "name": "python",
   "nbconvert_exporter": "python",
   "pygments_lexer": "ipython3",
   "version": "3.11.8"
  }
 },
 "nbformat": 4,
 "nbformat_minor": 5
}
